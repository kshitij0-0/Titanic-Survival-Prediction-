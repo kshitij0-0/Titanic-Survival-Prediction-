{
  "cells": [
    {
      "cell_type": "code",
      "execution_count": null,
      "metadata": {
        "id": "Qyy_IbGPFkG5"
      },
      "outputs": [],
      "source": [
        "import pandas as pd\n",
        "import numpy as np\n",
        "import matplotlib.pyplot as plt\n",
        "import seaborn as sns\n",
        "from sklearn.model_selection import train_test_split\n",
        "from sklearn.ensemble import RandomForestRegressor\n",
        "from sklearn.linear_model import LogisticRegression\n",
        "from sklearn import metrics \n",
        "from sklearn.metrics import accuracy_score"
      ]
    },
    {
      "cell_type": "code",
      "execution_count": null,
      "metadata": {
        "id": "jjnxCXLEFzHr"
      },
      "outputs": [],
      "source": [
        "train_dataset = pd.read_csv('/content/drive/MyDrive/Colab Datasets/titanic/train.csv')"
      ]
    },
    {
      "cell_type": "code",
      "execution_count": null,
      "metadata": {
        "id": "zOrGbuCbQyX3"
      },
      "outputs": [],
      "source": [
        "test_dataset = pd.read_csv('/content/drive/MyDrive/Colab Datasets/titanic/test.csv')"
      ]
    },
    {
      "cell_type": "code",
      "execution_count": null,
      "metadata": {
        "colab": {
          "base_uri": "https://localhost:8080/",
          "height": 206
        },
        "id": "zdDM-6UaRL-k",
        "outputId": "113aa5f1-a825-4e73-8150-8e717bd0f6d7"
      },
      "outputs": [],
      "source": [
        "test_dataset.head()"
      ]
    },
    {
      "cell_type": "code",
      "execution_count": null,
      "metadata": {
        "colab": {
          "base_uri": "https://localhost:8080/",
          "height": 206
        },
        "id": "WqiRgGmiGMnV",
        "outputId": "f0da1e87-4277-461d-d601-3494934df0c5"
      },
      "outputs": [],
      "source": [
        "train_dataset.head()"
      ]
    },
    {
      "cell_type": "code",
      "execution_count": null,
      "metadata": {
        "colab": {
          "base_uri": "https://localhost:8080/",
          "height": 423
        },
        "id": "HmXHrc3UG20-",
        "outputId": "85bdc8bd-82d7-443c-d970-6757271e2fc8"
      },
      "outputs": [],
      "source": [
        "train_dataset"
      ]
    },
    {
      "cell_type": "code",
      "execution_count": null,
      "metadata": {
        "colab": {
          "base_uri": "https://localhost:8080/"
        },
        "id": "KNRadRxfHuit",
        "outputId": "183d46a8-1365-4c8f-afda-1db455ada9ac"
      },
      "outputs": [],
      "source": [
        "train_dataset.shape"
      ]
    },
    {
      "cell_type": "code",
      "execution_count": null,
      "metadata": {
        "colab": {
          "base_uri": "https://localhost:8080/"
        },
        "id": "-WHXnjkdH4iw",
        "outputId": "c23df58f-2fa5-44d6-afe2-41bdf9d60217"
      },
      "outputs": [],
      "source": [
        "train_dataset.info()"
      ]
    },
    {
      "cell_type": "code",
      "execution_count": null,
      "metadata": {
        "colab": {
          "base_uri": "https://localhost:8080/"
        },
        "id": "7-cEBqGZIA9S",
        "outputId": "54d0144c-173b-4eb9-8e9a-879221bb8735"
      },
      "outputs": [],
      "source": [
        "train_dataset.isnull().sum()"
      ]
    },
    {
      "cell_type": "code",
      "execution_count": null,
      "metadata": {
        "colab": {
          "base_uri": "https://localhost:8080/"
        },
        "id": "-4FKtbBfVLk4",
        "outputId": "f3e43ea7-80ad-465d-a69f-07f25177807d"
      },
      "outputs": [],
      "source": [
        "test_dataset.isnull().sum()"
      ]
    },
    {
      "cell_type": "code",
      "execution_count": null,
      "metadata": {
        "colab": {
          "base_uri": "https://localhost:8080/",
          "height": 423
        },
        "id": "MY-F3GesIFob",
        "outputId": "d80cb380-4d2b-41b7-ef76-b7819c3f13e6"
      },
      "outputs": [],
      "source": [
        "X_train = train_dataset.drop(['Cabin','Survived','Age','Name','Ticket','Embarked'],axis = 1)\n",
        "X_train"
      ]
    },
    {
      "cell_type": "code",
      "execution_count": null,
      "metadata": {
        "id": "fKo6y5vqT9K6"
      },
      "outputs": [],
      "source": [
        "X_test = test_dataset.drop(['Cabin','Age','Name','Ticket','Embarked'],axis = 1)"
      ]
    },
    {
      "cell_type": "code",
      "execution_count": null,
      "metadata": {
        "id": "y-_P1PUWJUsI"
      },
      "outputs": [],
      "source": [
        "Y_train= train_dataset['Survived']"
      ]
    },
    {
      "cell_type": "code",
      "execution_count": null,
      "metadata": {
        "id": "gIgnEdhkN31F"
      },
      "outputs": [],
      "source": [
        "correlation = train_dataset.corr()"
      ]
    },
    {
      "cell_type": "code",
      "execution_count": null,
      "metadata": {
        "colab": {
          "base_uri": "https://localhost:8080/",
          "height": 338
        },
        "id": "yMhqlwm0OA49",
        "outputId": "b500dfc5-63f0-454b-eb23-a9b89522d6a1"
      },
      "outputs": [],
      "source": [
        "sns.heatmap(correlation, cbar=True, square=True, fmt='.1f',annot=True, annot_kws={'size':8}, cmap='Blues')"
      ]
    },
    {
      "cell_type": "code",
      "execution_count": null,
      "metadata": {
        "id": "ll012hK1OF4M"
      },
      "outputs": [],
      "source": [
        "#X_train, X_test, Y_train, Y_test = train_test_split(X, Y, test_size = 0.2, random_state=2)"
      ]
    },
    {
      "cell_type": "code",
      "execution_count": null,
      "metadata": {
        "id": "7jZrlPoFMaWW"
      },
      "outputs": [],
      "source": [
        "X_train.replace({'Sex':{'male':0 ,'female': 1}},inplace=True)\n",
        "X_test.replace({'Sex':{'male':0 ,'female': 1}},inplace=True)"
      ]
    },
    {
      "cell_type": "code",
      "execution_count": null,
      "metadata": {
        "colab": {
          "base_uri": "https://localhost:8080/",
          "height": 206
        },
        "id": "Dpy9ZsixR9ts",
        "outputId": "7a88e3c0-67fd-420b-b592-7d78456f4f6d"
      },
      "outputs": [],
      "source": [
        "X_train.head()"
      ]
    },
    {
      "cell_type": "code",
      "execution_count": null,
      "metadata": {
        "id": "0RmxxMX6TyRu"
      },
      "outputs": [],
      "source": [
        "log_reg = LogisticRegression()"
      ]
    },
    {
      "cell_type": "code",
      "execution_count": null,
      "metadata": {
        "colab": {
          "base_uri": "https://localhost:8080/"
        },
        "id": "1I627KQXVD4v",
        "outputId": "7943964f-829b-48b6-9a2f-b2e4417e8080"
      },
      "outputs": [],
      "source": [
        "log_reg.fit(X_train, Y_train)"
      ]
    },
    {
      "cell_type": "code",
      "execution_count": null,
      "metadata": {
        "colab": {
          "base_uri": "https://localhost:8080/"
        },
        "id": "bTwHrDwod7-J",
        "outputId": "171cdce0-185c-45d7-eec6-fee147e63aeb"
      },
      "outputs": [],
      "source": [
        "lpred = log_reg.predict(X_test)\n",
        "lpred"
      ]
    },
    {
      "cell_type": "code",
      "execution_count": null,
      "metadata": {
        "id": "5VKRzxkfeBhB"
      },
      "outputs": [],
      "source": [
        "input_data = (2,\t1,\t1,\t1,\t0,\t71.2833)\n",
        "array = np.asarray(input_data)\n",
        "a = array.reshape(1,-1)"
      ]
    },
    {
      "cell_type": "code",
      "execution_count": null,
      "metadata": {
        "colab": {
          "base_uri": "https://localhost:8080/"
        },
        "id": "ZRCxgeT7elqt",
        "outputId": "4ce8d014-4e7d-47af-cf64-86000476f265"
      },
      "outputs": [],
      "source": [
        "pred = log_reg.predict(a)"
      ]
    },
    {
      "cell_type": "code",
      "execution_count": null,
      "metadata": {
        "colab": {
          "base_uri": "https://localhost:8080/"
        },
        "id": "_n5oQy3ufDg1",
        "outputId": "9e8bc06f-0a31-4ce4-b4c2-69e91adbcf8b"
      },
      "outputs": [],
      "source": [
        "pred[0]\n"
      ]
    },
    {
      "cell_type": "code",
      "execution_count": null,
      "metadata": {
        "id": "0hGe6DmOfIGD"
      },
      "outputs": [],
      "source": []
    },
    {
      "cell_type": "code",
      "execution_count": null,
      "metadata": {},
      "outputs": [],
      "source": []
    }
  ],
  "metadata": {
    "colab": {
      "collapsed_sections": [],
      "name": "Titanic_survival.ipynb",
      "provenance": []
    },
    "kernelspec": {
      "display_name": "Python 3.10.4 64-bit (windows store)",
      "language": "python",
      "name": "python3"
    },
    "language_info": {
      "codemirror_mode": {
        "name": "ipython",
        "version": 3
      },
      "file_extension": ".py",
      "mimetype": "text/x-python",
      "name": "python",
      "nbconvert_exporter": "python",
      "pygments_lexer": "ipython3",
      "version": "3.10.4"
    },
    "vscode": {
      "interpreter": {
        "hash": "47585d7e26a53dd11384cfbca0ed0fada68da3b2f61a4b1c0645c12a4712488b"
      }
    }
  },
  "nbformat": 4,
  "nbformat_minor": 0
}
